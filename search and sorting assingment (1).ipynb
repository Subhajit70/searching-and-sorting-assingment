{
 "cells": [
  {
   "cell_type": "code",
   "execution_count": 1,
   "id": "341480c2-f3d9-4184-9e58-f854bb35f901",
   "metadata": {},
   "outputs": [],
   "source": [
    "#search and sorting "
   ]
  },
  {
   "cell_type": "code",
   "execution_count": 2,
   "id": "53f798f9-6641-47ca-8070-54fe1674e839",
   "metadata": {},
   "outputs": [
    {
     "name": "stdout",
     "output_type": "stream",
     "text": [
      "Intersection: [5]\n"
     ]
    }
   ],
   "source": [
    "#Problem 1 :Intersection of Two Sorted Arrays,Write a Python program to find the intersection of two sorted arrays.Input:A = [1, 3, 5, 7, 9],B = [2, 4, 5, 8],Output:,Intersection: [5]\n",
    "\n",
    "\n",
    "# Define the two sorted arrays\n",
    "A = [1, 3, 5, 7, 9]\n",
    "B = [2, 4, 5, 8]\n",
    "\n",
    "# Convert them into sets\n",
    "A_set = set(A)\n",
    "B_set = set(B)\n",
    "\n",
    "# Find the intersection using the & operator\n",
    "intersection = A_set & B_set\n",
    "\n",
    "# Convert the intersection back into a list and print it\n",
    "intersection_list = list(intersection)\n",
    "print(\"Intersection:\", intersection_list)\n",
    "\n",
    "\n"
   ]
  },
  {
   "cell_type": "code",
   "execution_count": 3,
   "id": "70eb78c3-5b5a-4496-aadd-5181ea0a26f8",
   "metadata": {},
   "outputs": [
    {
     "name": "stdout",
     "output_type": "stream",
     "text": [
      "The 3 th smallest element is 7\n"
     ]
    }
   ],
   "source": [
    "#Problem 2 :,Find the Kth Smallest Element,Write a Python function to find the kth smallest element in an unsorted list.:Input:,[12, 3, 1, 7, 8, 20], k = 3,Output:The 3rd smallest element is 7\n",
    "\n",
    "\n",
    "\n",
    "# Define the function to find the kth smallest element\n",
    "def kth_smallest(lst, k):\n",
    "  # Sort the list in ascending order\n",
    "  sorted_lst = sorted(lst)\n",
    "  # Return the kth element using indexing\n",
    "  return sorted_lst[k-1]\n",
    "\n",
    "# Define the unsorted list and the value of k\n",
    "lst = [12, 3, 1, 7, 8, 20]\n",
    "k = 3\n",
    "\n",
    "# Call the function and print the result\n",
    "result = kth_smallest(lst, k)\n",
    "print(\"The\", k, \"th smallest element is\", result)\n",
    "\n"
   ]
  },
  {
   "cell_type": "code",
   "execution_count": 4,
   "id": "d9ac54a4-e8c2-48ac-adca-48f4bc479b0b",
   "metadata": {},
   "outputs": [
    {
     "name": "stdout",
     "output_type": "stream",
     "text": [
      "Element 6 found at index 2\n"
     ]
    }
   ],
   "source": [
    "#Problem 3 :Binary Search in a Rotated Sorted Array,Implement a Python program to perform a binary search on a rotated sorted array.Input:[4, 5, 6, 7, 8, 9, 1, 2, 3], 6Output:Element 6 found at index 2\n",
    "\n",
    "# Define the function to perform binary search on a rotated sorted array\n",
    "def binary_search_rotated(arr, target):\n",
    "  # Initialize the left and right pointers\n",
    "  left = 0\n",
    "  right = len(arr) - 1\n",
    "\n",
    "  # Loop until the left pointer is smaller than or equal to the right pointer\n",
    "  while left <= right:\n",
    "    # Find the middle index\n",
    "    mid = (left + right) // 2\n",
    "    # If the target element is found at the middle index, return it\n",
    "    if arr[mid] == target:\n",
    "      return mid\n",
    "    # If the left half of the array is sorted\n",
    "    if arr[left] <= arr[mid]:\n",
    "      # If the target element is in the left half, search in that half\n",
    "      if arr[left] <= target < arr[mid]:\n",
    "        right = mid - 1\n",
    "      # Otherwise, search in the right half\n",
    "      else:\n",
    "        left = mid + 1\n",
    "    # If the right half of the array is sorted\n",
    "    else:\n",
    "      # If the target element is in the right half, search in that half\n",
    "      if arr[mid] < target <= arr[right]:\n",
    "        left = mid + 1\n",
    "      # Otherwise, search in the left half\n",
    "      else:\n",
    "        right = mid - 1\n",
    "  # If the target element is not found, return -1\n",
    "  return -1\n",
    "\n",
    "# Define the rotated sorted array and the target element\n",
    "arr = [4, 5, 6, 7, 8, 9, 1, 2, 3]\n",
    "target = 6\n",
    "\n",
    "# Call the function and print the result\n",
    "result = binary_search_rotated(arr, target)\n",
    "print(\"Element\", target, \"found at index\", result)\n",
    "\n"
   ]
  },
  {
   "cell_type": "code",
   "execution_count": 5,
   "id": "f07523b3-eeeb-4e62-870c-6d20fd82c4b0",
   "metadata": {},
   "outputs": [
    {
     "name": "stdout",
     "output_type": "stream",
     "text": [
      "Element 11 found at position (1, 2)\n"
     ]
    }
   ],
   "source": [
    "#Problem 4 :Searching in a MatrixWrite a Python program that searches for a given element in a 2D matrix and returns its position.Input:Matrix = [[1, 3, 5],[7, 9, 11],[13, 15, 17]]Element = 11\n",
    "\n",
    "# Define the function to search for an element in a 2D matrix\n",
    "def search_matrix(matrix, element):\n",
    "  # Loop over the rows of the matrix\n",
    "  for i in range(len(matrix)):\n",
    "    # Loop over the columns of the matrix\n",
    "    for j in range(len(matrix[i])):\n",
    "      # If the current element matches the target element, return its position\n",
    "      if matrix[i][j] == element:\n",
    "        return (i, j)\n",
    "  # If no match is found, return None\n",
    "  return None\n",
    "\n",
    "# Define the matrix and the element\n",
    "matrix = [\n",
    "[1, 3, 5],\n",
    "[7, 9, 11],\n",
    "[13, 15, 17]\n",
    "]\n",
    "element = 11\n",
    "\n",
    "# Call the function and print the result\n",
    "result = search_matrix(matrix, element)\n",
    "print(\"Element\", element, \"found at position\", result)\n",
    "\n",
    "\n"
   ]
  },
  {
   "cell_type": "code",
   "execution_count": 6,
   "id": "3a55e14e-eaa8-4feb-b6ae-5eb09a39d3cd",
   "metadata": {},
   "outputs": [
    {
     "name": "stdout",
     "output_type": "stream",
     "text": [
      "['kiwi', 'apple', 'grape', 'banana', 'orange']\n"
     ]
    }
   ],
   "source": [
    "#Problem 5 :Sorting Strings by LengthWrite a Python program that takes a list of strings and sorts them based on their length.Input:['apple', 'banana', 'kiwi', 'orange', 'grape']Output:['kiwi', 'grape', 'apple', 'banana', 'orange']\n",
    "\n",
    "# Define the function to sort a list of strings by length\n",
    "def sort_by_length(lst):\n",
    "  # Use the sorted() function with the len() function as the key\n",
    "  return sorted(lst, key=len)\n",
    "\n",
    "# Define the list of strings\n",
    "lst = ['apple', 'banana', 'kiwi', 'orange', 'grape']\n",
    "\n",
    "# Call the function and print the result\n",
    "result = sort_by_length(lst)\n",
    "print(result)\n",
    "\n",
    "\n"
   ]
  },
  {
   "cell_type": "code",
   "execution_count": 7,
   "id": "67a6652c-c17a-42ea-8c44-7f6ef1462be1",
   "metadata": {},
   "outputs": [
    {
     "name": "stdout",
     "output_type": "stream",
     "text": [
      "Peak element is 20\n"
     ]
    }
   ],
   "source": [
    "#Problem 9 :Implement a Python function to find a peak element in an array. A peak element is an element that is greaterthan or equal to its neighbors.Input:[1, 3, 20, 4, 1, 0]Output:Peak element is 20\n",
    "# Define the function to find a peak element in an array\n",
    "def find_peak(arr):\n",
    "  # Loop over the array from the second to the second last element\n",
    "  for i in range(1, len(arr) - 1):\n",
    "    # If the current element is greater than or equal to both its neighbors, return it\n",
    "    if arr[i] >= arr[i-1] and arr[i] >= arr[i+1]:\n",
    "      return arr[i]\n",
    "  # If no peak element is found in the middle, return the first or last element\n",
    "  return max(arr[0], arr[-1])\n",
    "\n",
    "# Define the array\n",
    "arr = [1, 3, 20, 4, 1, 0]\n",
    "\n",
    "# Call the function and print the result\n",
    "result = find_peak(arr)\n",
    "print(\"Peak element is\", result)\n",
    "\n",
    "\n"
   ]
  },
  {
   "cell_type": "code",
   "execution_count": null,
   "id": "e4b548a4-e468-43f6-a7fb-23337ddc9ba9",
   "metadata": {},
   "outputs": [],
   "source": [
    "#Problem 10 :Search in a Nearly Sorted ArrayImplement a Python program to perform a binary search in a nearly sorted array. In a nearly sorted array, eachelement is at most k positions away from its sorted position.Input:[2, 1, 3, 4, 6, 5, 7], k = 1Output:Element 5 found at index 4\n",
    "\n",
    "\n"
   ]
  }
 ],
 "metadata": {
  "kernelspec": {
   "display_name": "Python 3 (ipykernel)",
   "language": "python",
   "name": "python3"
  },
  "language_info": {
   "codemirror_mode": {
    "name": "ipython",
    "version": 3
   },
   "file_extension": ".py",
   "mimetype": "text/x-python",
   "name": "python",
   "nbconvert_exporter": "python",
   "pygments_lexer": "ipython3",
   "version": "3.10.8"
  }
 },
 "nbformat": 4,
 "nbformat_minor": 5
}
